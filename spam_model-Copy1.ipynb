{
 "cells": [
  {
   "cell_type": "code",
   "execution_count": null,
   "metadata": {
    "collapsed": true
   },
   "outputs": [],
   "source": [
    "import numpy as np\n",
    "import pandas as pd\n",
    "from pandas import *\n",
    "import matplotlib.pyplot as plt\n",
    "%matplotlib inline\n",
    "from matplotlib.pylab import rcParams"
   ]
  },
  {
   "cell_type": "code",
   "execution_count": null,
   "metadata": {
    "collapsed": true
   },
   "outputs": [],
   "source": [
    "df = pd.read_csv('trend_v1_.csv', encoding='utf-8')\n",
    "training_set = pd.read_csv('training-set.csv', encoding='utf-8',\n",
    "                           names=['FileID', 'Label'])\n",
    "df_training = pd.merge(df, training_set, on=['FileID'], how='inner')\n",
    "# Why does this not work? \n",
    "# dataset = pd.read_csv(r'C:\\Users\\David\\Desktop\\trend_v1_.csv', encoding='utf-8')"
   ]
  },
  {
   "cell_type": "code",
   "execution_count": null,
   "metadata": {},
   "outputs": [],
   "source": [
    "# Imputation of variables\n",
    "total_time = 3600*24*90\n",
    "df_training['QueryTsIntervalMean'].fillna(value=total_time, inplace=True)\n",
    "df_training['QueryTsIntervalStd'].fillna(value=0, inplace=True) \n",
    "df_training.to_csv('trend_v2.csv', index=False)\n",
    "feature = list(df_training)\n",
    "#df_training.info()\n",
    "#df_training.head()"
   ]
  },
  {
   "cell_type": "code",
   "execution_count": null,
   "metadata": {},
   "outputs": [],
   "source": [
    "# Define X and y \n",
    "y = df_training['Label']\n",
    "X = df_training.drop(['FileID','Label'],1)"
   ]
  },
  {
   "cell_type": "code",
   "execution_count": null,
   "metadata": {},
   "outputs": [],
   "source": [
    "from sklearn.model_selection import train_test_split\n",
    "from sklearn import metrics\n",
    "from sklearn.metrics import roc_auc_score, mean_absolute_error, r2_score\n",
    "from xgboost import XGBClassifier\n",
    "### http://xgboost.readthedocs.io/en/latest/python/python_api.html"
   ]
  },
  {
   "cell_type": "code",
   "execution_count": null,
   "metadata": {},
   "outputs": [],
   "source": [
    "# XGBoost Classifier\n",
    "# split our data into training & test\n",
    "X_train, X_val, y_train, y_val = train_test_split(X, y, random_state=7, test_size=0.33)\n",
    "eval_set = [(X_val, y_val)]\n",
    "model_xgb = XGBClassifier(max_depth=3, learning_rate=0.1, n_estimators=100, reg_alpha=0.1, reg_lambda=1)\n",
    "model_xgb.fit(X_train, y_train, early_stopping_rounds=10, eval_metric='auc', eval_set=eval_set, verbose=1)\n",
    "# For auc, see https://github.com/dmlc/xgboost/blob/master/doc/parameter.md\n",
    "# model.predict will return the predicted label\n",
    "y_pred = model_xgb.predict(X_val)\n",
    "y_pred_proba = model_xgb.predict_proba(X_val)[:,1]\n",
    "roc_auc = metrics.roc_auc_score(y_val, y_pred_proba)\n",
    "print('roc_auc: %.2f%%' % roc_auc)"
   ]
  },
  {
   "cell_type": "code",
   "execution_count": null,
   "metadata": {},
   "outputs": [],
   "source": [
    "# Show the model statistics\n",
    "mae = metrics.mean_absolute_error(y_val, y_pred_proba)\n",
    "r2 = metrics.r2_score(y_val, y_pred_proba)\n",
    "fpr, tpr, thresholds = metrics.roc_curve(y_val, y_pred_proba, pos_label=1, drop_intermediate=True)\n",
    "print('mae: %.2f%%' % mae)\n",
    "print('r2: %.2f%%' % r2)\n",
    "print('FPR:',fpr)\n",
    "print('TPR:',tpr)\n",
    "print('thresholds:',thresholds)\n",
    "plt.xlabel('FPR')\n",
    "plt.ylabel('TPR')\n",
    "plt.scatter(fpr,tpr)\n",
    "plt.show()"
   ]
  },
  {
   "cell_type": "code",
   "execution_count": null,
   "metadata": {},
   "outputs": [],
   "source": [
    "# Import the plot_importance function to visualize the feature importance\n",
    "from xgboost import plot_importance\n",
    "print(model_xgb.feature_importances_)\n",
    "rcParams['figure.figsize'] = 6,10\n",
    "plot_importance(model_xgb, max_num_features=30)\n",
    "plt.show()"
   ]
  },
  {
   "cell_type": "code",
   "execution_count": null,
   "metadata": {},
   "outputs": [],
   "source": [
    "# Plot tree\n",
    "from xgboost import plot_tree\n",
    "rcParams['figure.figsize'] = 50,80\n",
    "plot_tree(model_xgb, num_trees=1)\n",
    "plt.show()"
   ]
  },
  {
   "cell_type": "code",
   "execution_count": null,
   "metadata": {},
   "outputs": [],
   "source": [
    "# Create submission\n",
    "testing_set = pd.read_csv('testing-set.csv', encoding='utf-8', \n",
    "                          names=['FileID','Label'])\n",
    "dft = pd.merge(df, testing_set, on=['FileID'], how='inner')\n",
    "dft2 = dft.drop(['FileID','Label'],1)\n",
    "# Create submission\n",
    "y_predt = model_xgb.predict_proba(dft2)[:,1]\n",
    "y_predt = pd.DataFrame(y_predt, columns=['Label'])\n",
    "submission = pd.concat([pd.DataFrame(dft['FileID']), y_predt], axis=1)\n",
    "submission.to_csv('trend_submission.csv', index=False, header=False)\n",
    "#submission['Label].value_counts()"
   ]
  },
  {
   "cell_type": "code",
   "execution_count": null,
   "metadata": {},
   "outputs": [],
   "source": [
    "# Grid Search\n",
    "# http://scikit-learn.org/stable/modules/generated/sklearn.model_selection.GridSearchCV.html\n",
    "from sklearn.model_selection import GridSearchCV\n",
    "parameters= {'max_depth':[3,4], 'learning_rate':[0.1], \n",
    "                'n_estimators':[100], 'reg_alpha':[0,0.1,1,10],\n",
    "                'reg_lambda':[0,0.1,1,10]}\n",
    "model = XGBClassifier()\n",
    "best_model = GridSearchCV(model, parameters, cv=5, scoring='roc_auc')\n",
    "best_model.fit(X_train, y_train, early_stopping_rounds=10, eval_metric='auc', eval_set=eval_set, verbose=1)"
   ]
  },
  {
   "cell_type": "code",
   "execution_count": null,
   "metadata": {},
   "outputs": [],
   "source": [
    "best_model.cv_results_"
   ]
  }
 ],
 "metadata": {
  "kernelspec": {
   "display_name": "Python 3",
   "language": "python",
   "name": "python3"
  },
  "language_info": {
   "codemirror_mode": {
    "name": "ipython",
    "version": 3
   },
   "file_extension": ".py",
   "mimetype": "text/x-python",
   "name": "python",
   "nbconvert_exporter": "python",
   "pygments_lexer": "ipython3",
   "version": "3.6.3"
  }
 },
 "nbformat": 4,
 "nbformat_minor": 2
}
